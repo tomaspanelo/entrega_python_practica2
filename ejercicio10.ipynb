{
 "cells": [
  {
   "cell_type": "code",
   "execution_count": 22,
   "metadata": {},
   "outputs": [],
   "source": [
    "import calculadora_premios as calc"
   ]
  },
  {
   "cell_type": "markdown",
   "metadata": {},
   "source": [
    "Importo el modulo para poder implemetar las funciones asi realizar los calculos\n"
   ]
  },
  {
   "cell_type": "code",
   "execution_count": 23,
   "metadata": {},
   "outputs": [],
   "source": [
    "names = \"\"\"Agustin, Yanina, Andrés, Ariadna, Bautista, CAROLINA,\n",
    "CESAR, David, Diego, Dolores, DYLAN, ELIANA, Emanuel, Fabián, Noelia,\n",
    "Francsica', FEDERICO, Fernanda, GONZALO, Nancy\"\"\"\n",
    "goals = [0, 10, 4, 0, 5, 14, 0, 0, 7, 2, 1, 1, 1, 5, 6, 1, 1, 2, 0,11]\n",
    "goals_avoided = [0, 2, 0, 0, 5, 2, 0, 0, 1, 2, 0, 5, 5, 0, 1, 0, 2,3, 0, 0]\n",
    "assists = [0, 5, 1, 0, 5, 2, 0, 0, 1, 2, 1, 5, 5, 0, 1, 0, 2, 3, 1,0]\n",
    "\n",
    "names= names.replace(\",\",\"\").replace(\"\\n\",\" \")\n",
    "names=names.split(\" \")"
   ]
  },
  {
   "cell_type": "markdown",
   "metadata": {},
   "source": [
    "Pongo en variables los datos que me dieron y hago una lista con los nombres asi iterar uno por uno\n"
   ]
  },
  {
   "cell_type": "code",
   "execution_count": 24,
   "metadata": {},
   "outputs": [
    {
     "name": "stdout",
     "output_type": "stream",
     "text": [
      "Nombre: Agustin , goles: 0, goles evitados: 0, asistencias: 0 \n",
      "Nombre: Yanina , goles: 10, goles evitados: 2, asistencias: 5 \n",
      "Nombre: Andrés , goles: 4, goles evitados: 0, asistencias: 1 \n",
      "Nombre: Ariadna , goles: 0, goles evitados: 0, asistencias: 0 \n",
      "Nombre: Bautista , goles: 5, goles evitados: 5, asistencias: 5 \n",
      "Nombre: CAROLINA , goles: 14, goles evitados: 2, asistencias: 2 \n",
      "Nombre: CESAR , goles: 0, goles evitados: 0, asistencias: 0 \n",
      "Nombre: David , goles: 0, goles evitados: 0, asistencias: 0 \n",
      "Nombre: Diego , goles: 7, goles evitados: 1, asistencias: 1 \n",
      "Nombre: Dolores , goles: 2, goles evitados: 2, asistencias: 2 \n",
      "Nombre: DYLAN , goles: 1, goles evitados: 0, asistencias: 1 \n",
      "Nombre: ELIANA , goles: 1, goles evitados: 5, asistencias: 5 \n",
      "Nombre: Emanuel , goles: 1, goles evitados: 5, asistencias: 5 \n",
      "Nombre: Fabián , goles: 5, goles evitados: 0, asistencias: 0 \n",
      "Nombre: Noelia , goles: 6, goles evitados: 1, asistencias: 1 \n",
      "Nombre: Francsica' , goles: 1, goles evitados: 0, asistencias: 0 \n",
      "Nombre: FEDERICO , goles: 1, goles evitados: 2, asistencias: 2 \n",
      "Nombre: Fernanda , goles: 2, goles evitados: 3, asistencias: 3 \n",
      "Nombre: GONZALO , goles: 0, goles evitados: 0, asistencias: 1 \n",
      "Nombre: Nancy , goles: 11, goles evitados: 0, asistencias: 0 \n"
     ]
    }
   ],
   "source": [
    "players_stats = calc.generar_estructura(names,goals,goals_avoided,assists)\n",
    "\n",
    "for player in players_stats:\n",
    "    print(f'Nombre: {player[\"Nombre\"]} , goles: {player[\"Goles\"]}, goles evitados: {player[\"Goles evitados\"]}, asistencias: {player[\"Asistencias\"]} ')"
   ]
  },
  {
   "cell_type": "markdown",
   "metadata": {},
   "source": [
    "\n",
    "Llamo a la funcion \"generar_estructura\" que me crea una lista de diccionarios con los nombres y las estadisticas de cada jugador"
   ]
  },
  {
   "cell_type": "code",
   "execution_count": 25,
   "metadata": {},
   "outputs": [
    {
     "name": "stdout",
     "output_type": "stream",
     "text": [
      "El goleador es CAROLINA con 14 goles\n"
     ]
    }
   ],
   "source": [
    "goal_scorer,goals_converted= calc.nombre_goles_goleador(players_stats)\n",
    "print(f\"El goleador es {goal_scorer} con {goals_converted} goles\")"
   ]
  },
  {
   "cell_type": "markdown",
   "metadata": {},
   "source": [
    "Llamo a la funcion \"nombre_goles_goleador\" que me devuelve de la lista de diccionarios generada el goleador con sus goles"
   ]
  },
  {
   "cell_type": "code",
   "execution_count": 26,
   "metadata": {},
   "outputs": [
    {
     "name": "stdout",
     "output_type": "stream",
     "text": [
      "El jugador mas influyente es CAROLINA con una influencia de 8.5 segun los valores de goles,goles evitados,asistencias\n"
     ]
    }
   ],
   "source": [
    "most_influential_list = calc.mas_influyente(players_stats)\n",
    "most_influential= max(most_influential_list,key=lambda x: x[1])\n",
    "print(f\"El jugador mas influyente es {most_influential[0]} con una influencia de {most_influential[1]} segun los valores de goles,goles evitados,asistencias\")"
   ]
  },
  {
   "cell_type": "markdown",
   "metadata": {},
   "source": [
    "Llamo a la funcion \"mas_influyente\" que devuelve una lista de tuplas con los nombres y promedio ponderado de las estadisticas,luego saco el que mas influencia tiene"
   ]
  },
  {
   "cell_type": "code",
   "execution_count": 27,
   "metadata": {},
   "outputs": [
    {
     "name": "stdout",
     "output_type": "stream",
     "text": [
      "El promedio de goles del equipo en los 25 partidos que se jugaron en la temporada es: 2.84\n"
     ]
    }
   ],
   "source": [
    "team_goal_average = calc.promedio_goles_equipo(goals)\n",
    "print(f\"El promedio de goles del equipo en los 25 partidos que se jugaron en la temporada es: {team_goal_average}\")"
   ]
  },
  {
   "cell_type": "markdown",
   "metadata": {},
   "source": [
    "De la lista de goles saco el promedio de todos los goles en 25 partidos"
   ]
  },
  {
   "cell_type": "code",
   "execution_count": 28,
   "metadata": {},
   "outputs": [
    {
     "name": "stdout",
     "output_type": "stream",
     "text": [
      "El promedio en los 25 partidos de goles del goleador CAROLINA es: 0.56\n"
     ]
    }
   ],
   "source": [
    "average_goal_scorer= calc.promedio_goles_goleador(goals_converted)\n",
    "print(f\"El promedio en los 25 partidos de goles del goleador {goal_scorer} es: {average_goal_scorer}\")"
   ]
  },
  {
   "cell_type": "markdown",
   "metadata": {},
   "source": [
    "Con los goles y nombre del goleador que busque con la funcion \"nombre_goles_goleador\" saco su promedio por partido "
   ]
  }
 ],
 "metadata": {
  "kernelspec": {
   "display_name": "venv",
   "language": "python",
   "name": "python3"
  },
  "language_info": {
   "codemirror_mode": {
    "name": "ipython",
    "version": 3
   },
   "file_extension": ".py",
   "mimetype": "text/x-python",
   "name": "python",
   "nbconvert_exporter": "python",
   "pygments_lexer": "ipython3",
   "version": "3.11.7"
  }
 },
 "nbformat": 4,
 "nbformat_minor": 2
}
